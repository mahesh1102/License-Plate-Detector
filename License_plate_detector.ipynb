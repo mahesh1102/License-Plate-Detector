{
  "nbformat": 4,
  "nbformat_minor": 0,
  "metadata": {
    "accelerator": "GPU",
    "colab": {
      "provenance": []
    },
    "kernelspec": {
      "display_name": "Python 3",
      "name": "python3"
    },
    "language_info": {
      "name": "python"
    }
  },
  "cells": [
    {
      "cell_type": "code",
      "metadata": {
        "id": "oYgykqoj2JYv"
      },
      "source": [
        "import keras"
      ],
      "execution_count": null,
      "outputs": []
    },
    {
      "cell_type": "code",
      "metadata": {
        "colab": {
          "base_uri": "https://localhost:8080/"
        },
        "id": "mjuE6g-DBPl2",
        "outputId": "d0ca98ab-c233-4bb7-e02f-4d2cee8085f4"
      },
      "source": [
        "from google.colab import drive\n",
        "drive.mount('/content/drive')"
      ],
      "execution_count": null,
      "outputs": [
        {
          "output_type": "stream",
          "name": "stdout",
          "text": [
            "Drive already mounted at /content/drive; to attempt to forcibly remount, call drive.mount(\"/content/drive\", force_remount=True).\n"
          ]
        }
      ]
    },
    {
      "cell_type": "code",
      "metadata": {
        "id": "du_7eLoa2d7I"
      },
      "source": [
        "! unzip -uq    '/content/drive/MyDrive/dataset.zip'"
      ],
      "execution_count": null,
      "outputs": []
    },
    {
      "cell_type": "code",
      "metadata": {
        "id": "31yUDZU1zErP"
      },
      "source": [
        "from tensorflow.keras.models import load_model\n",
        "model=load_model('/content/drive/MyDrive/ps2model.h5')"
      ],
      "execution_count": null,
      "outputs": []
    },
    {
      "cell_type": "code",
      "metadata": {
        "id": "Wf_oayD06Lz3"
      },
      "source": [
        "import numpy as np\n",
        "import keras\n",
        "import matplotlib.pyplot as plt\n",
        "import itertools\n",
        "import cv2\n",
        "# from keras.optimizers import SGD\n",
        "from keras.preprocessing.image import ImageDataGenerator\n",
        "from keras.layers.core import Dense,Flatten\n",
        "from keras.layers.convolutional import Conv2D\n",
        "import argparse\n",
        "from keras.models import Sequential,load_model\n",
        "from keras.layers import Activation,MaxPooling2D,Dropout,Dense\n",
        "import os\n",
        "from keras.layers import BatchNormalization"
      ],
      "execution_count": null,
      "outputs": []
    },
    {
      "cell_type": "code",
      "metadata": {
        "id": "hZvM-Z1iasdM"
      },
      "source": [
        "import cv2\n",
        "import matplotlib.pyplot as plt\n",
        "\n",
        "def extractor(img):\n",
        "    p=0\n",
        "    net = cv2.dnn.readNetFromDarknet(\"/content/drive/MyDrive/yolov3_custom.cfg\", \"/content/drive/MyDrive/yolov3/yolov3_training_final.weights\")\n",
        "    classes = ['Licence Plate']\n",
        "    img = cv2.resize(img, (1280, 720))\n",
        "    hight, width, _ = img.shape\n",
        "    blob = cv2.dnn.blobFromImage(img, 1 / 255, (416, 416), (0, 0, 0), swapRB=True, crop=False)\n",
        "    net.setInput(blob)\n",
        "\n",
        "    output_layers_name = net.getUnconnectedOutLayersNames()\n",
        "\n",
        "    layerOutputs = net.forward(output_layers_name)\n",
        "\n",
        "    boxes = []\n",
        "    confidences = []\n",
        "    class_ids = []\n",
        "    cropped = None\n",
        "    for output in layerOutputs:\n",
        "        for detection in output:\n",
        "            score = detection[5:]\n",
        "            class_id = np.argmax(score)\n",
        "            confidence = score[class_id]\n",
        "            if confidence > 0.5:\n",
        "                center_x = int(detection[0] * width)\n",
        "                center_y = int(detection[1] * hight)\n",
        "                w = int(detection[2] * width)\n",
        "                h = int(detection[3] * hight)\n",
        "                x = int(center_x - w / 2)\n",
        "                y = int(center_y - h / 2)\n",
        "                if(confidence>p):\n",
        "                  p=confidence\n",
        "                  cropped = img[y:y + h, x:x + w]\n",
        "                boxes.append([x, y, w, h])\n",
        "                confidences.append((float(confidence)))\n",
        "                class_ids.append(class_id)\n",
        "\n",
        "    indexes = cv2.dnn.NMSBoxes(boxes, confidences, .8, .4)\n",
        "    font = cv2.FONT_HERSHEY_PLAIN\n",
        "    colors = np.random.uniform(0, 255, size=(len(boxes), 3))\n",
        "    if(len(indexes)==0):\n",
        "      return img\n",
        "    if len(indexes) > 0:\n",
        "        for i in indexes.flatten():\n",
        "            x, y, w, h = boxes[i]\n",
        "            label = str(classes[class_ids[i]])\n",
        "            confidence = str(round(confidences[i], 2))\n",
        "            color = (0, 255, 0)    \n",
        "            cv2.rectangle(img, (x, y), (x + w, y + h), color, 2)\n",
        "            cv2.putText(img, label + \" \" + confidence, (x, y + 400), font, 2, color, 2)\n",
        "    return img"
      ],
      "execution_count": null,
      "outputs": []
    },
    {
      "cell_type": "code",
      "metadata": {
        "id": "ZP4HMVo4bg_M"
      },
      "source": [
        "def vid_capture(cap):\n",
        "  net = cv2.dnn.readNetFromDarknet(\"/content/drive/MyDrive/yolov3_custom.cfg\", \"/content/drive/MyDrive/yolov3/yolov3_training_final.weights\")\n",
        "  classes = ['Licence Plate']\n",
        "  p=0\n",
        "  cropped=None\n",
        "  flag=1\n",
        "  while cap.isOpened():\n",
        "      print('Detecting')\n",
        "      _, img = cap.read()\n",
        "      img=cv2.rotate(img,cv2.ROTATE_90_CLOCKWISE)\n",
        "      img = cv2.resize(img, (1280, 720))\n",
        "      hight, width, _ = img.shape\n",
        "      blob = cv2.dnn.blobFromImage(img, 1 / 255, (416, 416), (0, 0, 0), swapRB=True, crop=False)\n",
        "      net.setInput(blob)\n",
        "      output_layers_name = net.getUnconnectedOutLayersNames()\n",
        "      layerOutputs = net.forward(output_layers_name)\n",
        "      boxes = []\n",
        "      confidences = []\n",
        "      class_ids = []\n",
        "      for output in layerOutputs:\n",
        "          for detection in output:\n",
        "              score = detection[5:]\n",
        "              class_id = np.argmax(score)\n",
        "              confidence = score[class_id]\n",
        "              if confidence > 0.5:\n",
        "                  center_x = int(detection[0] * width)\n",
        "                  center_y = int(detection[1] * hight)\n",
        "                  w = int(detection[2] * width)\n",
        "                  h = int(detection[3] * hight)\n",
        "                  x = int(center_x - w / 2)\n",
        "                  y = int(center_y - h / 2)\n",
        "                  if confidence>p:\n",
        "                    p=confidence\n",
        "                    cropped=img[y:y+h,x:x+w]\n",
        "                    if p>0.5:\n",
        "                      flag=0\n",
        "                  boxes.append([x, y, w, h])\n",
        "                  confidences.append((float(confidence)))\n",
        "                  class_ids.append(class_id)\n",
        "      indexes = cv2.dnn.NMSBoxes(boxes, confidences, .8, .4)\n",
        "      font = cv2.FONT_HERSHEY_PLAIN\n",
        "      colors = np.random.uniform(0, 255, size=(len(boxes), 3))\n",
        "      if len(indexes) > 0:\n",
        "          for i in indexes.flatten():\n",
        "              x, y, w, h = boxes[i]\n",
        "              label = str(classes[class_ids[i]])\n",
        "              confidence = str(round(confidences[i], 2))\n",
        "              color = colors[i]\n",
        "              cv2.rectangle(img, (x, y), (x + w, y + h), color, 2)\n",
        "              cv2.putText(img, label + \" \" + confidence, (x, y + 400), font, 2, color, 2)\n",
        "      if(flag==0):\n",
        "        break\n",
        "  return cropped\n"
      ],
      "execution_count": null,
      "outputs": []
    },
    {
      "cell_type": "code",
      "metadata": {
        "id": "ff0f0bv3-Xin"
      },
      "source": [
        "def get_processed_image(img):\n",
        "    a = cv2.cvtColor(img, cv2.COLOR_BGR2GRAY)\n",
        "    return a"
      ],
      "execution_count": null,
      "outputs": []
    },
    {
      "cell_type": "code",
      "metadata": {
        "id": "fgE-ebvb_jQp"
      },
      "source": [
        "def cmp(a):\n",
        "  return ord(a)"
      ],
      "execution_count": null,
      "outputs": []
    },
    {
      "cell_type": "code",
      "metadata": {
        "id": "mb9E7Z2fTcpo"
      },
      "source": [
        "def cmp1(a):\n",
        "  M=cv2.moments(a)\n",
        "  return int(M['m10']/M['m00'])"
      ],
      "execution_count": null,
      "outputs": []
    },
    {
      "cell_type": "code",
      "metadata": {
        "id": "wmir6AjOS94f"
      },
      "source": [
        "import numpy as np\n",
        "import cv2\n",
        "import imutils\n",
        "def locate_candidates(img,imgg):\n",
        "  ans=[]\n",
        "  img=cv2.resize(img,(300,100))\n",
        "  img=cv2.GaussianBlur(img, (5,5),0)\n",
        "  #light=cv2.morphologyEx(img,cv2.MORPH_CLOSE,sqr_kernel)\n",
        "  #img=cv2.Canny(img,0,120)\n",
        "  thresh=cv2.adaptiveThreshold(img,255,cv2.ADAPTIVE_THRESH_GAUSSIAN_C,cv2.THRESH_BINARY,115,8)\n",
        "  contours,hierarchy=cv2.findContours(thresh,cv2.RETR_TREE,cv2.CHAIN_APPROX_NONE)\n",
        "  cv2.drawContours(image,contours,-1,(0,255,0),1)\n",
        "  le=len(contours)\n",
        "  print (len(contours))\n",
        "  cnt=[]\n",
        "  for i in contours:\n",
        "    M1=cv2.moments(i)\n",
        "    M1=M1['m00']\n",
        "    if (M1==0):\n",
        "       continue\n",
        "    else:\n",
        "      cnt.append(i)    \n",
        "  contours=sorted(cnt,key=cmp1)\n",
        "  \n",
        "  avl=[]\n",
        "  \n",
        "  print('###'+str(len(cnt)))\n",
        "  hr=-1\n",
        "  cnt=0\n",
        "  for i in contours:\n",
        "     x,y,w,h=cv2.boundingRect(i)\n",
        "     if (w > thresh.shape[1] /16 and w < thresh.shape[1] /8 and h > thresh.shape[0] /6 and h<(3*thresh.shape[0])/4):\n",
        "       if(cnt>2):\n",
        "        hr=h\n",
        "        break\n",
        "     cnt+=1\n",
        "  for i in contours:\n",
        "      x,y,w,h=cv2.boundingRect(i)\n",
        "      cropped = imgg[y:y + h, x:x + w]\n",
        "      cv2.waitKey(0)\n",
        "      if (w > thresh.shape[1] /16 and w < thresh.shape[1] /8 and h > thresh.shape[0] /6 and h<(3*thresh.shape[0])/4) or hr!=-1:\n",
        "        M=cv2.moments(i)\n",
        "      else:\n",
        "        continue\n",
        "      fl=1\n",
        "      cx=int(M['m10']/M['m00'])\n",
        "      for j in avl:\n",
        "          if abs(j-cx)<=10:\n",
        "              fl=0\n",
        "          if(fl==0):\n",
        "              break\n",
        "\n",
        "      if(fl==0):\n",
        "          continue\n",
        "      if((w > thresh.shape[1] /16 and w < thresh.shape[1] /8 and h > thresh.shape[0] /6 and h<(3*thresh.shape[0])/4) or abs(h-hr)<=6  ):\n",
        "        avl.append(cx)\n",
        "      if (w > thresh.shape[1] /16 and w < thresh.shape[1] /8 and h > thresh.shape[0] / 6 and h<(3*thresh.shape[0])/4) or (abs(h-hr)<=6  and w < thresh.shape[1] /8):\n",
        "        cropped=imgg[y:y+h,x:x+w]\n",
        "        cropped=cv2.copyMakeBorder(cropped, 5, 5, 5, 5, cv2.BORDER_CONSTANT)\n",
        "        ans.append(cropped)\n",
        "  \n",
        "\n",
        "        \n",
        "  return ans\n",
        "\n",
        "\n"
      ],
      "execution_count": null,
      "outputs": []
    },
    {
      "cell_type": "code",
      "metadata": {
        "id": "ZVehoMlOS0Mb"
      },
      "source": [
        "mapping='0123456789ABCDEFGHIJKLMNOPQRSTUVWXYZ'"
      ],
      "execution_count": null,
      "outputs": []
    },
    {
      "cell_type": "code",
      "metadata": {
        "id": "S8WRHMh36aRU",
        "colab": {
          "base_uri": "https://localhost:8080/"
        },
        "outputId": "1e88994c-681f-415e-f09d-ffdc870d534b"
      },
      "source": [
        "features=[]\n",
        "labels=[]\n",
        "li=[]\n",
        "path = '/content/dataset'\n",
        "for c in os.listdir(path):\n",
        "  li.append(c)\n",
        "li.sort(key=cmp)\n",
        "print(li)\n",
        "index=0\n",
        "for c in li:\n",
        "  print(c)\n",
        "  folder = os.path.join(path,c)\n",
        "  for img in os.listdir(folder):\n",
        "        imgpath = os.path.join(folder,img)\n",
        "        i = cv2.imread(imgpath)\n",
        "        imgfinal = get_processed_image(i)\n",
        "        imgfinal = np.array(imgfinal)\n",
        "        features.append(imgfinal)\n",
        "        labels.append(index)\n",
        "  index+=1 \n",
        "    "
      ],
      "execution_count": null,
      "outputs": [
        {
          "output_type": "stream",
          "name": "stdout",
          "text": [
            "['0', '1', '2', '3', '4', '5', '6', '7', '8', '9', 'A', 'B', 'C', 'D', 'E', 'F', 'G', 'H', 'I', 'J', 'K', 'L', 'M', 'N', 'O', 'P', 'Q', 'R', 'S', 'T', 'U', 'V', 'W', 'X', 'Y', 'Z']\n",
            "0\n",
            "1\n",
            "2\n",
            "3\n",
            "4\n",
            "5\n",
            "6\n",
            "7\n",
            "8\n",
            "9\n",
            "A\n",
            "B\n",
            "C\n",
            "D\n",
            "E\n",
            "F\n",
            "G\n",
            "H\n",
            "I\n",
            "J\n",
            "K\n",
            "L\n",
            "M\n",
            "N\n",
            "O\n",
            "P\n",
            "Q\n",
            "R\n",
            "S\n",
            "T\n",
            "U\n",
            "V\n",
            "W\n",
            "X\n",
            "Y\n",
            "Z\n"
          ]
        }
      ]
    },
    {
      "cell_type": "code",
      "metadata": {
        "id": "ZifWDUtNMp8d"
      },
      "source": [
        "\n"
      ],
      "execution_count": null,
      "outputs": []
    },
    {
      "cell_type": "code",
      "metadata": {
        "id": "R9xhIqqY6aTy",
        "colab": {
          "base_uri": "https://localhost:8080/"
        },
        "outputId": "a5271998-886f-4de2-db3c-1ba12a0f3f26"
      },
      "source": [
        "labels=np.array(labels)\n",
        "features=np.array(features)\n",
        "print(labels.shape)\n",
        "print(features.shape)"
      ],
      "execution_count": null,
      "outputs": [
        {
          "output_type": "stream",
          "name": "stdout",
          "text": [
            "(36576,)\n",
            "(36576, 28, 28)\n"
          ]
        }
      ]
    },
    {
      "cell_type": "code",
      "metadata": {
        "id": "B0eGL4EUB_db"
      },
      "source": [
        "x_train = []\n",
        "y_train = []\n",
        "x_test = []\n",
        "y_test = []"
      ],
      "execution_count": null,
      "outputs": []
    },
    {
      "cell_type": "code",
      "metadata": {
        "id": "ysBWRSTR6aVY"
      },
      "source": [
        "from sklearn.model_selection import train_test_split\n",
        "x_train,x_test,y_train,y_test=train_test_split(features,labels,test_size=0.3,random_state=42,shuffle=True,stratify=labels)"
      ],
      "execution_count": null,
      "outputs": []
    },
    {
      "cell_type": "code",
      "metadata": {
        "id": "Hv2-oL0yCUFQ",
        "colab": {
          "base_uri": "https://localhost:8080/"
        },
        "outputId": "f40dbe0e-a55a-4564-ebcb-25cd644ee906"
      },
      "source": [
        "print(len(x_train),len(x_test)) "
      ],
      "execution_count": null,
      "outputs": [
        {
          "output_type": "stream",
          "name": "stdout",
          "text": [
            "25603 10973\n"
          ]
        }
      ]
    },
    {
      "cell_type": "code",
      "metadata": {
        "id": "l1sbIdA66aXh"
      },
      "source": [
        "np.save('x_train',x_train)\n",
        "np.save('y_train',y_train)\n",
        "np.save('x_test',x_test)\n",
        "np.save('y_test',y_test)"
      ],
      "execution_count": null,
      "outputs": []
    },
    {
      "cell_type": "code",
      "metadata": {
        "id": "eqXRWhe-6aZF",
        "colab": {
          "base_uri": "https://localhost:8080/"
        },
        "outputId": "ee1c6e3d-798f-411a-d7e4-5e3429ca8e81"
      },
      "source": [
        "x_train = np.array(x_train)\n",
        "y_train = np.array(y_train)\n",
        "x_test = np.array(x_test)\n",
        "y_test = np.array(y_test)\n",
        "x_train = x_train.reshape((25603, 28, 28, 1))\n",
        "x_test=x_test.reshape((10973, 28, 28, 1))\n",
        "print(x_test.shape)\n",
        "\n",
        "x_train = x_train/255\n",
        "x_test = x_test/255"
      ],
      "execution_count": null,
      "outputs": [
        {
          "output_type": "stream",
          "name": "stdout",
          "text": [
            "(10973, 28, 28, 1)\n"
          ]
        }
      ]
    },
    {
      "cell_type": "code",
      "metadata": {
        "id": "AZqIPMkV6abh"
      },
      "source": [
        "from tensorflow import keras\n",
        "y_test = keras.utils.to_categorical(y_test, 36)\n",
        "y_train = keras.utils.to_categorical(y_train, 36)"
      ],
      "execution_count": null,
      "outputs": []
    },
    {
      "cell_type": "code",
      "metadata": {
        "id": "rpKjZyQC6ail",
        "colab": {
          "base_uri": "https://localhost:8080/"
        },
        "outputId": "255d3efe-3df9-47c8-ba63-373b1023271b"
      },
      "source": [
        "\n",
        "model =Sequential()\n",
        "model.add(Conv2D(32, (3,3), activation='relu', input_shape = (28,28,1)))\n",
        "model.add(MaxPooling2D((2,2)))\n",
        "model.add(Conv2D(64, (3,3), activation = 'relu'))\n",
        "model.add(MaxPooling2D((2,2)))\n",
        "model.add(Conv2D(64, (3,3), activation='relu'))\n",
        "model.add(Flatten())\n",
        "model.add(Dense(64, activation = 'relu'))\n",
        "model.add(Dense(36, activation='softmax'))\n",
        "model.compile(loss='categorical_crossentropy', optimizer='rmsprop', metrics=['accuracy'])\n",
        "model.summary()"
      ],
      "execution_count": null,
      "outputs": [
        {
          "output_type": "stream",
          "name": "stdout",
          "text": [
            "Model: \"sequential\"\n",
            "_________________________________________________________________\n",
            " Layer (type)                Output Shape              Param #   \n",
            "=================================================================\n",
            " conv2d (Conv2D)             (None, 26, 26, 32)        320       \n",
            "                                                                 \n",
            " max_pooling2d (MaxPooling2D  (None, 13, 13, 32)       0         \n",
            " )                                                               \n",
            "                                                                 \n",
            " conv2d_1 (Conv2D)           (None, 11, 11, 64)        18496     \n",
            "                                                                 \n",
            " max_pooling2d_1 (MaxPooling  (None, 5, 5, 64)         0         \n",
            " 2D)                                                             \n",
            "                                                                 \n",
            " conv2d_2 (Conv2D)           (None, 3, 3, 64)          36928     \n",
            "                                                                 \n",
            " flatten (Flatten)           (None, 576)               0         \n",
            "                                                                 \n",
            " dense (Dense)               (None, 64)                36928     \n",
            "                                                                 \n",
            " dense_1 (Dense)             (None, 36)                2340      \n",
            "                                                                 \n",
            "=================================================================\n",
            "Total params: 95,012\n",
            "Trainable params: 95,012\n",
            "Non-trainable params: 0\n",
            "_________________________________________________________________\n"
          ]
        }
      ]
    },
    {
      "cell_type": "code",
      "metadata": {
        "id": "3ZE-fwnxC--D"
      },
      "source": [
        "from keras.callbacks import ModelCheckpoint\n",
        "\n",
        "checkpoint = ModelCheckpoint('/content/models/model-{epoch:03d}.h5',\n",
        "                                 monitor='accuracy',\n",
        "                                 verbose=0,\n",
        "                                 save_best_only=True)"
      ],
      "execution_count": null,
      "outputs": []
    },
    {
      "cell_type": "code",
      "metadata": {
        "id": "DHfZuoqrXr0v"
      },
      "source": [],
      "execution_count": null,
      "outputs": []
    },
    {
      "cell_type": "code",
      "metadata": {
        "id": "Vq7qpDIfC_Op",
        "colab": {
          "base_uri": "https://localhost:8080/"
        },
        "outputId": "c0b7d541-860b-40c5-ded0-472f1e5f5d6c"
      },
      "source": [
        "history=model.fit(x_train,y_train,callbacks=[checkpoint],validation_data = None,epochs=100,verbose=1,batch_size=64)\n"
      ],
      "execution_count": null,
      "outputs": [
        {
          "output_type": "stream",
          "name": "stdout",
          "text": [
            "Epoch 1/100\n",
            "401/401 [==============================] - 14s 10ms/step - loss: 1.3294 - accuracy: 0.7240\n",
            "Epoch 2/100\n",
            "401/401 [==============================] - 4s 9ms/step - loss: 0.3073 - accuracy: 0.9158\n",
            "Epoch 3/100\n",
            "401/401 [==============================] - 4s 9ms/step - loss: 0.1975 - accuracy: 0.9408\n",
            "Epoch 4/100\n",
            "401/401 [==============================] - 4s 9ms/step - loss: 0.1430 - accuracy: 0.9553\n",
            "Epoch 5/100\n",
            "401/401 [==============================] - 4s 9ms/step - loss: 0.1111 - accuracy: 0.9649\n",
            "Epoch 6/100\n",
            "401/401 [==============================] - 4s 9ms/step - loss: 0.0941 - accuracy: 0.9695\n",
            "Epoch 7/100\n",
            "401/401 [==============================] - 4s 9ms/step - loss: 0.0784 - accuracy: 0.9740\n",
            "Epoch 8/100\n",
            "401/401 [==============================] - 4s 9ms/step - loss: 0.0765 - accuracy: 0.9761\n",
            "Epoch 9/100\n",
            "401/401 [==============================] - 4s 9ms/step - loss: 0.0606 - accuracy: 0.9799\n",
            "Epoch 10/100\n",
            "401/401 [==============================] - 4s 9ms/step - loss: 0.0647 - accuracy: 0.9782\n",
            "Epoch 11/100\n",
            "401/401 [==============================] - 4s 9ms/step - loss: 0.0545 - accuracy: 0.9818\n",
            "Epoch 12/100\n",
            "401/401 [==============================] - 4s 9ms/step - loss: 0.0588 - accuracy: 0.9820\n",
            "Epoch 13/100\n",
            "401/401 [==============================] - 4s 9ms/step - loss: 0.0545 - accuracy: 0.9844\n",
            "Epoch 14/100\n",
            "401/401 [==============================] - 4s 9ms/step - loss: 0.0559 - accuracy: 0.9828\n",
            "Epoch 15/100\n",
            "401/401 [==============================] - 4s 9ms/step - loss: 0.0475 - accuracy: 0.9848\n",
            "Epoch 16/100\n",
            "401/401 [==============================] - 4s 9ms/step - loss: 0.0535 - accuracy: 0.9845\n",
            "Epoch 17/100\n",
            "401/401 [==============================] - 4s 9ms/step - loss: 0.0522 - accuracy: 0.9850\n",
            "Epoch 18/100\n",
            "401/401 [==============================] - 4s 9ms/step - loss: 0.0550 - accuracy: 0.9846\n",
            "Epoch 19/100\n",
            "401/401 [==============================] - 4s 9ms/step - loss: 0.0540 - accuracy: 0.9854\n",
            "Epoch 20/100\n",
            "401/401 [==============================] - 4s 9ms/step - loss: 0.0485 - accuracy: 0.9861\n",
            "Epoch 21/100\n",
            "401/401 [==============================] - 4s 9ms/step - loss: 0.0608 - accuracy: 0.9855\n",
            "Epoch 22/100\n",
            "401/401 [==============================] - 4s 9ms/step - loss: 0.0518 - accuracy: 0.9870\n",
            "Epoch 23/100\n",
            "401/401 [==============================] - 4s 9ms/step - loss: 0.0465 - accuracy: 0.9870\n",
            "Epoch 24/100\n",
            "401/401 [==============================] - 4s 9ms/step - loss: 0.0496 - accuracy: 0.9874\n",
            "Epoch 25/100\n",
            "401/401 [==============================] - 4s 9ms/step - loss: 0.0506 - accuracy: 0.9868\n",
            "Epoch 26/100\n",
            "401/401 [==============================] - 4s 10ms/step - loss: 0.0518 - accuracy: 0.9876\n",
            "Epoch 27/100\n",
            "401/401 [==============================] - 4s 9ms/step - loss: 0.0457 - accuracy: 0.9886\n",
            "Epoch 28/100\n",
            "401/401 [==============================] - 4s 9ms/step - loss: 0.0547 - accuracy: 0.9877\n",
            "Epoch 29/100\n",
            "401/401 [==============================] - 4s 9ms/step - loss: 0.0483 - accuracy: 0.9878\n",
            "Epoch 30/100\n",
            "401/401 [==============================] - 4s 9ms/step - loss: 0.0501 - accuracy: 0.9885\n",
            "Epoch 31/100\n",
            "401/401 [==============================] - 4s 9ms/step - loss: 0.0493 - accuracy: 0.9878\n",
            "Epoch 32/100\n",
            "401/401 [==============================] - 4s 9ms/step - loss: 0.0535 - accuracy: 0.9880\n",
            "Epoch 33/100\n",
            "401/401 [==============================] - 4s 9ms/step - loss: 0.0565 - accuracy: 0.9877\n",
            "Epoch 34/100\n",
            "401/401 [==============================] - 4s 10ms/step - loss: 0.0556 - accuracy: 0.9893\n",
            "Epoch 35/100\n",
            "401/401 [==============================] - 4s 9ms/step - loss: 0.0609 - accuracy: 0.9880\n",
            "Epoch 36/100\n",
            "401/401 [==============================] - 4s 9ms/step - loss: 0.0631 - accuracy: 0.9886\n",
            "Epoch 37/100\n",
            "401/401 [==============================] - 4s 9ms/step - loss: 0.0625 - accuracy: 0.9880\n",
            "Epoch 38/100\n",
            "401/401 [==============================] - 4s 10ms/step - loss: 0.0554 - accuracy: 0.9900\n",
            "Epoch 39/100\n",
            "401/401 [==============================] - 4s 9ms/step - loss: 0.0537 - accuracy: 0.9897\n",
            "Epoch 40/100\n",
            "401/401 [==============================] - 4s 9ms/step - loss: 0.0582 - accuracy: 0.9886\n",
            "Epoch 41/100\n",
            "401/401 [==============================] - 4s 9ms/step - loss: 0.0615 - accuracy: 0.9899\n",
            "Epoch 42/100\n",
            "401/401 [==============================] - 4s 9ms/step - loss: 0.0551 - accuracy: 0.9893\n",
            "Epoch 43/100\n",
            "401/401 [==============================] - 4s 9ms/step - loss: 0.0575 - accuracy: 0.9896\n",
            "Epoch 44/100\n",
            "401/401 [==============================] - 4s 10ms/step - loss: 0.0469 - accuracy: 0.9904\n",
            "Epoch 45/100\n",
            "401/401 [==============================] - 4s 9ms/step - loss: 0.0518 - accuracy: 0.9905\n",
            "Epoch 46/100\n",
            "401/401 [==============================] - 4s 9ms/step - loss: 0.0531 - accuracy: 0.9906\n",
            "Epoch 47/100\n",
            "401/401 [==============================] - 4s 9ms/step - loss: 0.0627 - accuracy: 0.9892\n",
            "Epoch 48/100\n",
            "401/401 [==============================] - 4s 9ms/step - loss: 0.0626 - accuracy: 0.9901\n",
            "Epoch 49/100\n",
            "401/401 [==============================] - 4s 9ms/step - loss: 0.0695 - accuracy: 0.9910\n",
            "Epoch 50/100\n",
            "401/401 [==============================] - 4s 10ms/step - loss: 0.0536 - accuracy: 0.9909\n",
            "Epoch 51/100\n",
            "401/401 [==============================] - 4s 10ms/step - loss: 0.0665 - accuracy: 0.9902\n",
            "Epoch 52/100\n",
            "401/401 [==============================] - 4s 10ms/step - loss: 0.0672 - accuracy: 0.9898\n",
            "Epoch 53/100\n",
            "401/401 [==============================] - 4s 10ms/step - loss: 0.0591 - accuracy: 0.9911\n",
            "Epoch 54/100\n",
            "401/401 [==============================] - 4s 10ms/step - loss: 0.0566 - accuracy: 0.9910\n",
            "Epoch 55/100\n",
            "401/401 [==============================] - 4s 10ms/step - loss: 0.0632 - accuracy: 0.9913\n",
            "Epoch 56/100\n",
            "401/401 [==============================] - 4s 9ms/step - loss: 0.0637 - accuracy: 0.9904\n",
            "Epoch 57/100\n",
            "401/401 [==============================] - 4s 9ms/step - loss: 0.0518 - accuracy: 0.9914\n",
            "Epoch 58/100\n",
            "401/401 [==============================] - 4s 9ms/step - loss: 0.0782 - accuracy: 0.9903\n",
            "Epoch 59/100\n",
            "401/401 [==============================] - 4s 9ms/step - loss: 0.0586 - accuracy: 0.9923\n",
            "Epoch 60/100\n",
            "401/401 [==============================] - 4s 9ms/step - loss: 0.0697 - accuracy: 0.9908\n",
            "Epoch 61/100\n",
            "401/401 [==============================] - 4s 9ms/step - loss: 0.0726 - accuracy: 0.9921\n",
            "Epoch 62/100\n",
            "401/401 [==============================] - 4s 9ms/step - loss: 0.0602 - accuracy: 0.9918\n",
            "Epoch 63/100\n",
            "401/401 [==============================] - 4s 9ms/step - loss: 0.0751 - accuracy: 0.9915\n",
            "Epoch 64/100\n",
            "401/401 [==============================] - 4s 9ms/step - loss: 0.0643 - accuracy: 0.9920\n",
            "Epoch 65/100\n",
            "401/401 [==============================] - 4s 9ms/step - loss: 0.0679 - accuracy: 0.9910\n",
            "Epoch 66/100\n",
            "401/401 [==============================] - 4s 9ms/step - loss: 0.0724 - accuracy: 0.9915\n",
            "Epoch 67/100\n",
            "401/401 [==============================] - 4s 9ms/step - loss: 0.0645 - accuracy: 0.9921\n",
            "Epoch 68/100\n",
            "401/401 [==============================] - 4s 9ms/step - loss: 0.0651 - accuracy: 0.9923\n",
            "Epoch 69/100\n",
            "401/401 [==============================] - 4s 9ms/step - loss: 0.0668 - accuracy: 0.9920\n",
            "Epoch 70/100\n",
            "401/401 [==============================] - 4s 9ms/step - loss: 0.0684 - accuracy: 0.9929\n",
            "Epoch 71/100\n",
            "401/401 [==============================] - 4s 10ms/step - loss: 0.0716 - accuracy: 0.9925\n",
            "Epoch 72/100\n",
            "401/401 [==============================] - 4s 9ms/step - loss: 0.0571 - accuracy: 0.9918\n",
            "Epoch 73/100\n",
            "401/401 [==============================] - 4s 9ms/step - loss: 0.0834 - accuracy: 0.9922\n",
            "Epoch 74/100\n",
            "401/401 [==============================] - 4s 10ms/step - loss: 0.0809 - accuracy: 0.9920\n",
            "Epoch 75/100\n",
            "401/401 [==============================] - 4s 9ms/step - loss: 0.0730 - accuracy: 0.9927\n",
            "Epoch 76/100\n",
            "401/401 [==============================] - 4s 10ms/step - loss: 0.0627 - accuracy: 0.9932\n",
            "Epoch 77/100\n",
            "401/401 [==============================] - 4s 9ms/step - loss: 0.0653 - accuracy: 0.9932\n",
            "Epoch 78/100\n",
            "401/401 [==============================] - 4s 9ms/step - loss: 0.0677 - accuracy: 0.9925\n",
            "Epoch 79/100\n",
            "401/401 [==============================] - 4s 10ms/step - loss: 0.0675 - accuracy: 0.9927\n",
            "Epoch 80/100\n",
            "401/401 [==============================] - 4s 10ms/step - loss: 0.0683 - accuracy: 0.9925\n",
            "Epoch 81/100\n",
            "401/401 [==============================] - 4s 10ms/step - loss: 0.0818 - accuracy: 0.9931\n",
            "Epoch 82/100\n",
            "401/401 [==============================] - 4s 10ms/step - loss: 0.0700 - accuracy: 0.9929\n",
            "Epoch 83/100\n",
            "401/401 [==============================] - 4s 10ms/step - loss: 0.0643 - accuracy: 0.9932\n",
            "Epoch 84/100\n",
            "401/401 [==============================] - 4s 9ms/step - loss: 0.0661 - accuracy: 0.9939\n",
            "Epoch 85/100\n",
            "401/401 [==============================] - 4s 9ms/step - loss: 0.0607 - accuracy: 0.9932\n",
            "Epoch 86/100\n",
            "401/401 [==============================] - 4s 9ms/step - loss: 0.0623 - accuracy: 0.9934\n",
            "Epoch 87/100\n",
            "401/401 [==============================] - 4s 9ms/step - loss: 0.0841 - accuracy: 0.9935\n",
            "Epoch 88/100\n",
            "401/401 [==============================] - 4s 9ms/step - loss: 0.0818 - accuracy: 0.9923\n",
            "Epoch 89/100\n",
            "401/401 [==============================] - 4s 9ms/step - loss: 0.0894 - accuracy: 0.9933\n",
            "Epoch 90/100\n",
            "401/401 [==============================] - 4s 9ms/step - loss: 0.0781 - accuracy: 0.9927\n",
            "Epoch 91/100\n",
            "401/401 [==============================] - 4s 9ms/step - loss: 0.0849 - accuracy: 0.9936\n",
            "Epoch 92/100\n",
            "401/401 [==============================] - 4s 9ms/step - loss: 0.0810 - accuracy: 0.9938\n",
            "Epoch 93/100\n",
            "401/401 [==============================] - 4s 9ms/step - loss: 0.0786 - accuracy: 0.9934\n",
            "Epoch 94/100\n",
            "401/401 [==============================] - 4s 9ms/step - loss: 0.0705 - accuracy: 0.9936\n",
            "Epoch 95/100\n",
            "401/401 [==============================] - 4s 9ms/step - loss: 0.0710 - accuracy: 0.9941\n",
            "Epoch 96/100\n",
            "401/401 [==============================] - 4s 9ms/step - loss: 0.0574 - accuracy: 0.9943\n",
            "Epoch 97/100\n",
            "401/401 [==============================] - 4s 9ms/step - loss: 0.0651 - accuracy: 0.9946\n",
            "Epoch 98/100\n",
            "401/401 [==============================] - 4s 9ms/step - loss: 0.0797 - accuracy: 0.9945\n",
            "Epoch 99/100\n",
            "401/401 [==============================] - 4s 9ms/step - loss: 0.0655 - accuracy: 0.9941\n",
            "Epoch 100/100\n",
            "401/401 [==============================] - 4s 9ms/step - loss: 0.0756 - accuracy: 0.9943\n"
          ]
        }
      ]
    },
    {
      "cell_type": "code",
      "metadata": {
        "id": "XY8cwbP1DE1S"
      },
      "source": [
        "# predictions = model.predict_classes(x_test)\n",
        "predictions = np.argmax(model.predict(x_test),axis=-1)\n"
      ],
      "execution_count": null,
      "outputs": []
    },
    {
      "cell_type": "code",
      "metadata": {
        "id": "0Jk5Kic-M7Fz",
        "colab": {
          "base_uri": "https://localhost:8080/",
          "height": 121
        },
        "outputId": "1bea8e86-f706-46be-f395-5307407d3759"
      },
      "source": [
        "cap=cv2.VideoCapture('/content/drive/MyDrive/Vid_1.mp4')\n",
        "vimg=vid_capture(cap)\n",
        "plt.imshow(vimg,cmap='Greys_r')"
      ],
      "execution_count": null,
      "outputs": [
        {
          "output_type": "stream",
          "name": "stdout",
          "text": [
            "Detecting\n"
          ]
        },
        {
          "output_type": "execute_result",
          "data": {
            "text/plain": [
              "<matplotlib.image.AxesImage at 0x7f445efea4d0>"
            ]
          },
          "metadata": {},
          "execution_count": 42
        },
        {
          "output_type": "display_data",
          "data": {
            "text/plain": [
              "<Figure size 432x288 with 1 Axes>"
            ],
            "image/png": "[encoded data removed]"
          },
          "metadata": {
            "needs_background": "light"
          }
        }
      ]
    },
    {
      "cell_type": "code",
      "metadata": {
        "id": "neUzy-7zM6CZ"
      },
      "source": [],
      "execution_count": null,
      "outputs": []
    },
    {
      "cell_type": "code",
      "metadata": {
        "id": "W2pNHBUVNAsA",
        "colab": {
          "base_uri": "https://localhost:8080/",
          "height": 240
        },
        "outputId": "712111eb-a3fd-42bf-d4b0-d05d2efa18e4"
      },
      "source": [
        "image= cv2.imread('/content/drive/MyDrive/ps2/test_pics/t11.png')\n",
        "#image=vimg\n",
        "image=extractor(image)\n",
        "plt.imshow(image,cmap='Greys_r')\n",
        "image=cv2.resize(image,(300,100))\n",
        "imgg=cv2.cvtColor(image,cv2.COLOR_BGR2GRAY)\n",
        "imgg=cv2.medianBlur(imgg,  5)\n",
        "cv2.imwrite('vv.jpeg',imgg)\n",
        "#imgg=cv2.Canny(imgg,0,120)\n",
        "kernel = np.ones((3,3),np.uint8)\n",
        "imgg=cv2.adaptiveThreshold(imgg,255,cv2.ADAPTIVE_THRESH_MEAN_C,cv2.THRESH_BINARY_INV,21,12)\n",
        "#imgg =cv2.morphologyEx(imgg, cv2.MORPH_CLOSE, kernel)\n",
        "imgg=cv2.erode(imgg,kernel,1)\n",
        "#imgg=cv2.dilate(imgg,kernel,1)\n",
        "#plt.imshow(imgg,cmap='Greys_r')\n",
        "gray=cv2.cvtColor(image,cv2.COLOR_BGR2GRAY)"
      ],
      "execution_count": null,
      "outputs": [
        {
          "output_type": "display_data",
          "data": {
            "text/plain": [
              "<Figure size 432x288 with 1 Axes>"
            ],
            "image/png": "[encoded data removed]"
          },
          "metadata": {
            "needs_background": "light"
          }
        }
      ]
    },
    {
      "cell_type": "code",
      "metadata": {
        "id": "z02tKRiZNEf8",
        "colab": {
          "base_uri": "https://localhost:8080/",
          "height": 172
        },
        "outputId": "5868d929-5344-4446-9664-38988f88c6b3"
      },
      "source": [
        "import cv2\n",
        "from matplotlib import pyplot as plt\n",
        "ans=locate_candidates(gray,imgg)\n",
        "rows=1\n",
        "columns=len(ans)\n",
        "cnt=1\n",
        "fig = plt.figure(figsize=(10, 7))\n",
        "for i in ans:\n",
        "  fig.add_subplot(rows,columns,cnt)\n",
        "  plt.imshow(i)\n",
        "  plt.axis('off')\n",
        "  cnt+=1"
      ],
      "execution_count": null,
      "outputs": [
        {
          "output_type": "stream",
          "name": "stdout",
          "text": [
            "23\n",
            "###21\n"
          ]
        },
        {
          "output_type": "display_data",
          "data": {
            "text/plain": [
              "<Figure size 720x504 with 7 Axes>"
            ],
            "image/png": "[encoded data removed]"
          },
          "metadata": {
            "needs_background": "light"
          }
        }
      ]
    },
    {
      "cell_type": "code",
      "metadata": {
        "id": "x1KBS7IBFotF",
        "colab": {
          "base_uri": "https://localhost:8080/",
          "height": 421
        },
        "outputId": "c4fac4e2-b872-491b-8391-41c228caea18"
      },
      "source": [
        "import cv2\n",
        "import matplotlib.pyplot as plt\n",
        "cnt = 0\n",
        "print('@'+str(len(ans)))\n",
        "for test_image in ans:\n",
        "  #test_image=cv2.bitwise_not(test_image)\n",
        "  test_image=cv2.resize(test_image,(28,28))\n",
        "  print(test_image.shape)\n",
        "  plt.imshow(test_image,cmap='Greys_r')\n",
        "  x=np.reshape(test_image,(28,28,1))/255\n",
        "  y=[x]\n",
        "  y=np.array(y)\n",
        "  result=np.argmax(model.predict(y))\n",
        "  if (cnt>=0 and cnt<=1) or (cnt>=4 and cnt<=4):\n",
        "    if result==0:\n",
        "      result=24\n",
        "    elif result==8:\n",
        "      result=11  \n",
        "    elif result==2:\n",
        "      result=35\n",
        "    elif result==4:\n",
        "      result=21\n",
        "    elif result==5:\n",
        "      result=28 \n",
        "    elif result==6:\n",
        "      result=16\n",
        "    elif result==1:\n",
        "      result=18    \n",
        "  else:\n",
        "    if result==24:\n",
        "      result=0\n",
        "    elif result==11:\n",
        "      result=8 \n",
        "    elif result==35:\n",
        "      result=2  \n",
        "    elif result==21:\n",
        "      result=4  \n",
        "    elif result==28:\n",
        "      result=5\n",
        "    elif result==16:\n",
        "      result=6\n",
        "    elif result==18:\n",
        "      result=1      \n",
        "  print(mapping[result],end='')\n",
        "  cnt+=1\n"
      ],
      "execution_count": null,
      "outputs": [
        {
          "output_type": "stream",
          "name": "stdout",
          "text": [
            "@7\n",
            "(28, 28)\n",
            "W(28, 28)\n",
            "W(28, 28)\n",
            "W(28, 28)\n",
            "W(28, 28)\n",
            "W(28, 28)\n",
            "W(28, 28)\n",
            "W"
          ]
        },
        {
          "output_type": "display_data",
          "data": {
            "text/plain": [
              "<Figure size 432x288 with 1 Axes>"
            ],
            "image/png": "[encoded data removed]"
          },
          "metadata": {
            "needs_background": "light"
          }
        }
      ]
    },
    {
      "cell_type": "code",
      "metadata": {
        "id": "i6zQj8c-hAbd"
      },
      "source": [
        "model.save('/content/drive/My Drive/ps2model.h5')"
      ],
      "execution_count": null,
      "outputs": []
    },
    {
      "cell_type": "code",
      "source": [],
      "metadata": {
        "id": "qG7YMx084Ds0"
      },
      "execution_count": null,
      "outputs": []
    }
  ]
}